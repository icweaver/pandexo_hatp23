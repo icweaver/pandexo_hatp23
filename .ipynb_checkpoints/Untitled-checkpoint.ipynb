{
 "cells": [
  {
   "cell_type": "code",
   "execution_count": 1,
   "id": "honest-saying",
   "metadata": {},
   "outputs": [],
   "source": [
    "%load_ext autoreload\n",
    "%autoreload 2"
   ]
  },
  {
   "cell_type": "code",
   "execution_count": 13,
   "id": "worldwide-glasgow",
   "metadata": {},
   "outputs": [],
   "source": [
    "import matplotlib.pyplot as plt"
   ]
  },
  {
   "cell_type": "code",
   "execution_count": 2,
   "id": "subjective-attack",
   "metadata": {},
   "outputs": [
    {
     "name": "stderr",
     "output_type": "stream",
     "text": [
      "/home/mango/miniconda3/envs/pandexo/lib/python3.7/site-packages/pysynphot/locations.py:345: UserWarning: Extinction files not found in /home/mango/data/pandexo/synphot5/grp/hst/cdbs/extinction\n",
      "  warnings.warn('Extinction files not found in %s' % (extdir, ))\n",
      "/home/mango/miniconda3/envs/pandexo/lib/python3.7/site-packages/pysynphot/refs.py:118: UserWarning: No graph or component tables found; functionality will be SEVERELY crippled. No files found for /home/mango/data/pandexo/synphot5/grp/hst/cdbs/mtab/*_tmg.fits\n",
      "  'functionality will be SEVERELY crippled. ' + str(e))\n",
      "/home/mango/miniconda3/envs/pandexo/lib/python3.7/site-packages/pysynphot/refs.py:125: UserWarning: No thermal tables found, no thermal calculations can be performed. No files found for /home/mango/data/pandexo/synphot5/grp/hst/cdbs/mtab/*_tmt.fits\n",
      "  'no thermal calculations can be performed. ' + str(e))\n"
     ]
    }
   ],
   "source": [
    "import pandexo.engine.justdoit as jdi"
   ]
  },
  {
   "cell_type": "code",
   "execution_count": 3,
   "id": "moved-solid",
   "metadata": {},
   "outputs": [
    {
     "name": "stdout",
     "output_type": "stream",
     "text": [
      "Running Single Case w/ User Instrument Dict\n",
      "Dropping first orbit designed by observation strategy\n",
      "Do not calculate ramp profile\n",
      "Assuming a target fluence of 30,000 electrons.\n",
      "****WARNING: Observing plan may incur mid-orbit buffer dumps.  Check with APT.\n"
     ]
    }
   ],
   "source": [
    "exo_dict = jdi.load_exo_dict()\n",
    "\n",
    "exo_dict['star']['jmag'] = 11.103\n",
    "exo_dict['star']['hmag'] = 10.846\n",
    "\n",
    "#WASP-43b\n",
    "exo_dict['planet']['type']    = 'user'               # user specified inputs\n",
    "exo_dict['planet']['exopath'] = 'tspec.txt'          # filename for model spectrum\n",
    "exo_dict['planet']['w_unit']  = 'um'                 # wavelength unit\n",
    "exo_dict['planet']['f_unit']  = 'fp/f*'              # flux ratio unit (can also put \"rp^2/r*^2\")\n",
    "exo_dict['planet']['depth']   = 4.0e-3               # flux ratio\n",
    "exo_dict['planet']['i']       = 85.1                 # Orbital inclination in degrees\n",
    "exo_dict['planet']['ars']     = 4.26                 # Semi-major axis / stellar radius\n",
    "exo_dict['planet']['period']  = 1.2128867            # Orbital period in days\n",
    "exo_dict['planet']['transit_duration']= 0.082        #(optional if given above info) transit duration in days\n",
    "exo_dict['planet']['w']       = 90                   #(optional) longitude of periastron. Default is 90\n",
    "exo_dict['planet']['ecc']     = 0                    #(optional) eccentricity. Default is 0\n",
    "\n",
    "inst_dict = jdi.load_mode_dict('WFC3 G141')\n",
    "\n",
    "exo_dict['observation']['noccultations']               = 5            # Number of transits/eclipses\n",
    "inst_dict['configuration']['detector']['subarray']     = 'GRISM256'   # GRISM256 or GRISM512\n",
    "inst_dict['configuration']['detector']['nsamp']        = 10           # WFC3 N_SAMP, 1..15\n",
    "inst_dict['configuration']['detector']['samp_seq']     = 'SPARS5'     # WFC3 SAMP_SEQ, SPARS5 or SPARS10\n",
    "inst_dict['strategy']['norbits']                       = 4            # Number of HST orbits\n",
    "inst_dict['strategy']['nchan']                       = 15           # Number of spectrophotometric channels\n",
    "inst_dict['strategy']['scanDirection']               = 'Forward'    # Spatial scan direction, Forward or Round Trip\n",
    "inst_dict['strategy']['schedulability']              = 30           # 30 for small/medium program, 100 for large program\n",
    "inst_dict['strategy']['windowSize']                  = 20           # (optional) Observation start window size in minutes. Default is 20 minutes.\n",
    "inst_dict['strategy']['calculateRamp'] = False\n",
    "\n",
    "foo = jdi.run_pandexo(exo_dict, inst_dict, output_file='wasp43b.p')"
   ]
  },
  {
   "cell_type": "code",
   "execution_count": 4,
   "id": "improved-baker",
   "metadata": {},
   "outputs": [],
   "source": [
    "import pandexo.engine.justplotit as jpi"
   ]
  },
  {
   "cell_type": "code",
   "execution_count": 5,
   "id": "stone-tonight",
   "metadata": {},
   "outputs": [],
   "source": [
    "#using foo from above\n",
    "#other keys include model=True/False\n",
    "datawave, dataspec, dataerror, modelwave, modelspec = jpi.hst_spec(foo)"
   ]
  },
  {
   "cell_type": "code",
   "execution_count": 6,
   "id": "understanding-check",
   "metadata": {},
   "outputs": [],
   "source": [
    "obsphase1, obstr1, obsphase2, obstr2,rms = jpi.hst_time(foo)"
   ]
  },
  {
   "cell_type": "code",
   "execution_count": 7,
   "id": "weird-provincial",
   "metadata": {},
   "outputs": [
    {
     "data": {
      "text/plain": [
       "{'Estimated duty cycle (outside of Earth occultation)': 24.99116666666667,\n",
       " 'Maximum pixel fluence (electrons)': 30266.370139081948,\n",
       " 'Number of HST orbits': 4,\n",
       " 'Number of Transits': 5,\n",
       " 'Number of channels': 15,\n",
       " 'Recommended scan rate (arcsec/s)': 0.076,\n",
       " 'Scan height (pixels)': 13.454512396694216,\n",
       " 'Start observations between orbital phases': '0.307075052926-0.324148057092',\n",
       " 'Transit depth uncertainty(ppm)': 62.43304527622844,\n",
       " 'WFC3 parameters: NSAMP': 10,\n",
       " 'WFC3 parameters: SAMP_SEQ': 'SPARS5'}"
      ]
     },
     "execution_count": 7,
     "metadata": {},
     "output_type": "execute_result"
    }
   ],
   "source": [
    "foo['wfc3_TExoNS']['info']\n",
    "{'Estimated duty cycle (outside of Earth occultation)': 24.991166666666668,\n",
    " 'Maximum pixel fluence (electrons)': 30266.370139081948,\n",
    " 'Number of HST orbits': 4,\n",
    " 'Number of Transits': 5,\n",
    " 'Number of channels': 15,\n",
    " 'Recommended scan rate (arcsec/s)': 0.075999999999999998,\n",
    " 'Scan height (pixels)': 13.454512396694216,\n",
    " 'Start observations between orbital phases': '0.307075052926-0.324148057092',\n",
    " 'Transit depth uncertainty(ppm)': 62.433045276228441,\n",
    " 'WFC3 parameters: NSAMP': 10,\n",
    " 'WFC3 parameters: SAMP_SEQ': 'SPARS5'}"
   ]
  },
  {
   "cell_type": "code",
   "execution_count": 2,
   "id": "suited-recorder",
   "metadata": {},
   "outputs": [],
   "source": [
    "import pickle"
   ]
  },
  {
   "cell_type": "code",
   "execution_count": 7,
   "id": "instant-worst",
   "metadata": {},
   "outputs": [
    {
     "data": {
      "text/plain": [
       "{'spec_error': 0.00016505681627355207,\n",
       " 'light_curve_rms': 0.0005042569030279809,\n",
       " 'nframes_per_orb': 15.0,\n",
       " 'info': {'Number of HST orbits': 4.0,\n",
       "  'Use first orbit': True,\n",
       "  'WFC3 parameters: NSAMP': 7,\n",
       "  'WFC3 parameters: SAMP_SEQ': 'SPARS25',\n",
       "  'Scan Direction': 'Forward',\n",
       "  'Recommended scan rate (arcsec/s)': 0.019645498663286486,\n",
       "  'Scan height (pixels)': 21.813647333943734,\n",
       "  'Maximum pixel fluence (electrons)': 29999.999999999996,\n",
       "  'exposure time': 134.35399999999998,\n",
       "  'Estimated duty cycle (outside of Earth occultation)': 62.69853333333333,\n",
       "  'Transit depth uncertainty(ppm)': 165.05681627355207,\n",
       "  'Number of channels': 20,\n",
       "  'Number of Transits': 1,\n",
       "  'Start observations between orbital phases': '0.8980851953351363-0.9095362969828737'}}"
      ]
     },
     "execution_count": 7,
     "metadata": {},
     "output_type": "execute_result"
    }
   ],
   "source": [
    "with open(\"hatp23b_TiO.p\", \"rb\") as f:\n",
    "    data = pickle.load(f)\n",
    "data[\"wfc3_TExoNS\"]"
   ]
  },
  {
   "cell_type": "code",
   "execution_count": 8,
   "id": "apart-crest",
   "metadata": {},
   "outputs": [
    {
     "data": {
      "text/plain": [
       "{'spec_error': 0.00016505681627355207,\n",
       " 'light_curve_rms': 0.0005042569030279809,\n",
       " 'nframes_per_orb': 15.0,\n",
       " 'info': {'Number of HST orbits': 4.0,\n",
       "  'Use first orbit': True,\n",
       "  'WFC3 parameters: NSAMP': 7,\n",
       "  'WFC3 parameters: SAMP_SEQ': 'SPARS25',\n",
       "  'Scan Direction': 'Forward',\n",
       "  'Recommended scan rate (arcsec/s)': 0.019645498663286486,\n",
       "  'Scan height (pixels)': 21.813647333943734,\n",
       "  'Maximum pixel fluence (electrons)': 29999.999999999996,\n",
       "  'exposure time': 134.35399999999998,\n",
       "  'Estimated duty cycle (outside of Earth occultation)': 62.69853333333333,\n",
       "  'Transit depth uncertainty(ppm)': 165.05681627355207,\n",
       "  'Number of channels': 20,\n",
       "  'Number of Transits': 1,\n",
       "  'Start observations between orbital phases': '0.8980851953351363-0.9095362969828737'}}"
      ]
     },
     "execution_count": 8,
     "metadata": {},
     "output_type": "execute_result"
    }
   ],
   "source": [
    "with open(\"hatp23b_noTiO.p\", \"rb\") as f:\n",
    "    data = pickle.load(f)\n",
    "data[\"wfc3_TExoNS\"]"
   ]
  },
  {
   "cell_type": "code",
   "execution_count": 9,
   "id": "engaging-three",
   "metadata": {},
   "outputs": [
    {
     "data": {
      "text/plain": [
       "dict_keys(['wfc3_TExoNS', 'calc_start_window', 'planet_spec', 'light_curve', 'info_div'])"
      ]
     },
     "execution_count": 9,
     "metadata": {},
     "output_type": "execute_result"
    }
   ],
   "source": [
    "data.keys()"
   ]
  },
  {
   "cell_type": "code",
   "execution_count": 10,
   "id": "middle-sullivan",
   "metadata": {},
   "outputs": [
    {
     "data": {
      "text/plain": [
       "dict_keys(['model_wave', 'model_spec', 'binwave', 'binspec', 'error', 'wmin', 'wmax'])"
      ]
     },
     "execution_count": 10,
     "metadata": {},
     "output_type": "execute_result"
    }
   ],
   "source": [
    "data[\"planet_spec\"].keys()"
   ]
  },
  {
   "cell_type": "code",
   "execution_count": 11,
   "id": "close-identity",
   "metadata": {},
   "outputs": [
    {
     "data": {
      "text/plain": [
       "{'model_wave': array([ 0.35   ,  0.3501 ,  0.35021, ..., 29.9822 , 29.9911 , 30.     ]),\n",
       " 'model_spec': array([0.01260374, 0.0126037 , 0.01260365, ..., 0.01290832, 0.01291531,\n",
       "        0.01292031]),\n",
       " 'binwave': array([1.138 , 1.1645, 1.191 , 1.217 , 1.243 , 1.269 , 1.2955, 1.322 ,\n",
       "        1.348 , 1.3745, 1.401 , 1.427 , 1.453 , 1.479 , 1.5055, 1.532 ,\n",
       "        1.558 , 1.5845, 1.6105, 1.637 ]),\n",
       " 'binspec': array([0.01271179, 0.01255927, 0.01264325, 0.01259842, 0.01251689,\n",
       "        0.01262739, 0.01264542, 0.01281203, 0.01246204, 0.01253669,\n",
       "        0.01256459, 0.01257467, 0.01287473, 0.01296063, 0.0127016 ,\n",
       "        0.01272638, 0.01290839, 0.01278281, 0.0129631 , 0.01275781]),\n",
       " 'error': 0.00016505681627355207,\n",
       " 'wmin': 1.125,\n",
       " 'wmax': 1.65}"
      ]
     },
     "execution_count": 11,
     "metadata": {},
     "output_type": "execute_result"
    }
   ],
   "source": [
    "data[\"planet_spec\"]"
   ]
  },
  {
   "cell_type": "code",
   "execution_count": 18,
   "id": "entire-burst",
   "metadata": {},
   "outputs": [
    {
     "data": {
      "text/plain": [
       "[<matplotlib.lines.Line2D at 0x7f65d6803a90>]"
      ]
     },
     "execution_count": 18,
     "metadata": {},
     "output_type": "execute_result"
    },
    {
     "data": {
      "image/png": "[encoded data removed]",
      "text/plain": [
       "<Figure size 432x288 with 1 Axes>"
      ]
     },
     "metadata": {
      "needs_background": "light"
     },
     "output_type": "display_data"
    }
   ],
   "source": [
    "plt.plot(\n",
    "    data[\"planet_spec\"][\"binwave\"],\n",
    "    data[\"planet_spec\"][\"binspec\"],\n",
    "    '.'\n",
    ")"
   ]
  },
  {
   "cell_type": "code",
   "execution_count": null,
   "id": "neutral-process",
   "metadata": {},
   "outputs": [],
   "source": []
  }
 ],
 "metadata": {
  "kernelspec": {
   "display_name": "Python 3",
   "language": "python",
   "name": "python3"
  },
  "language_info": {
   "codemirror_mode": {
    "name": "ipython",
    "version": 3
   },
   "file_extension": ".py",
   "mimetype": "text/x-python",
   "name": "python",
   "nbconvert_exporter": "python",
   "pygments_lexer": "ipython3",
   "version": "3.9.1"
  },
  "toc": {
   "base_numbering": 1,
   "nav_menu": {},
   "number_sections": false,
   "sideBar": true,
   "skip_h1_title": false,
   "title_cell": "Table of Contents",
   "title_sidebar": "Contents",
   "toc_cell": false,
   "toc_position": {},
   "toc_section_display": true,
   "toc_window_display": true
  }
 },
 "nbformat": 4,
 "nbformat_minor": 5
}
